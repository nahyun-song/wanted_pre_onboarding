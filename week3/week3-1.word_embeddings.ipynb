{
  "cells": [
    {
      "cell_type": "markdown",
      "metadata": {
        "id": "ugGR7pnI4WSe"
      },
      "source": [
        "# Week3_1 Assignment\n",
        "\n",
        "## [BASIC](#Basic) \n",
        "- 토크나이징이 완료된 위키 백과 코퍼스를 다운받고 **단어 사전을 구축하는 함수를 구현**할 수 있다.\n",
        "- `Skip-Gram` 방식의 학습 데이터 셋을 생성하는 **Dataset과 Dataloader 클래스를 구현**할 수 있다.\n",
        "- **Negative Sampling** 함수를 구현할 수 있다. \n",
        "\n",
        "\n",
        "## [CHALLENGE](#Challenge)\n",
        "- Skip-Gram을 학습 과정 튜토리얼을 따라하며, **Skip-Gram을 학습하는 클래스를 구현**할 수 있다. \n",
        "\n",
        "\n",
        "## [ADVANCED](#Advanced)\n",
        "- Skip-Gram 방식으로 word embedding을 학습하는 **Word2Vec 클래스를 구현**하고 실제로 학습할 수 있다.\n",
        "- 학습이 완료된 word embedding을 불러와 **Gensim 패키지를 사용해 유사한 단어**를 뽑을 수 있다. \n",
        "\n",
        "### Reference\n",
        "- [Skip-Gram negative sampling 한국어 튜토리얼](https://wikidocs.net/69141)\n",
        "    - (참고) 위 튜토리얼에서는 target word와 context word 페어의 레이블은 1로, target word와 negative sample word 페어의 레이블은 0이 되도록 학습 데이터를 구현해 binary classification을 구현한다. 하지만 우리는 word2vec 논문 방식을 그대로 따르기 위해 label을 생성하지 않고 대신 loss 함수를 변행해서 binary classification을 학습할 것이다. "
      ]
    },
    {
      "cell_type": "code",
      "execution_count": 101,
      "metadata": {
        "ExecuteTime": {
          "end_time": "2022-02-19T14:29:36.641276Z",
          "start_time": "2022-02-19T14:29:36.638642Z"
        },
        "id": "HlEy3xfY4WSh"
      },
      "outputs": [],
      "source": [
        "import os \n",
        "import sys\n",
        "import pandas as pd\n",
        "import numpy as np\n",
        "import re\n",
        "from typing import List, Dict\n",
        "import random"
      ]
    },
    {
      "cell_type": "code",
      "execution_count": 102,
      "metadata": {
        "ExecuteTime": {
          "end_time": "2022-02-19T12:50:41.644583Z",
          "start_time": "2022-02-19T12:50:41.642937Z"
        },
        "colab": {
          "base_uri": "https://localhost:8080/"
        },
        "id": "cBrr7-gt4jnf",
        "outputId": "b2656d87-28b3-4d86-f3e4-d083566ea6b6"
      },
      "outputs": [
        {
          "name": "stdout",
          "output_type": "stream",
          "text": [
            "Requirement already satisfied: transformers in /usr/local/lib/python3.7/dist-packages (4.17.0)\n",
            "Requirement already satisfied: requests in /usr/local/lib/python3.7/dist-packages (from transformers) (2.23.0)\n",
            "Requirement already satisfied: sacremoses in /usr/local/lib/python3.7/dist-packages (from transformers) (0.0.47)\n",
            "Requirement already satisfied: packaging>=20.0 in /usr/local/lib/python3.7/dist-packages (from transformers) (21.3)\n",
            "Requirement already satisfied: importlib-metadata in /usr/local/lib/python3.7/dist-packages (from transformers) (4.11.2)\n",
            "Requirement already satisfied: regex!=2019.12.17 in /usr/local/lib/python3.7/dist-packages (from transformers) (2019.12.20)\n",
            "Requirement already satisfied: tqdm>=4.27 in /usr/local/lib/python3.7/dist-packages (from transformers) (4.63.0)\n",
            "Requirement already satisfied: numpy>=1.17 in /usr/local/lib/python3.7/dist-packages (from transformers) (1.21.5)\n",
            "Requirement already satisfied: tokenizers!=0.11.3,>=0.11.1 in /usr/local/lib/python3.7/dist-packages (from transformers) (0.11.6)\n",
            "Requirement already satisfied: pyyaml>=5.1 in /usr/local/lib/python3.7/dist-packages (from transformers) (6.0)\n",
            "Requirement already satisfied: filelock in /usr/local/lib/python3.7/dist-packages (from transformers) (3.6.0)\n",
            "Requirement already satisfied: huggingface-hub<1.0,>=0.1.0 in /usr/local/lib/python3.7/dist-packages (from transformers) (0.4.0)\n",
            "Requirement already satisfied: typing-extensions>=3.7.4.3 in /usr/local/lib/python3.7/dist-packages (from huggingface-hub<1.0,>=0.1.0->transformers) (3.10.0.2)\n",
            "Requirement already satisfied: pyparsing!=3.0.5,>=2.0.2 in /usr/local/lib/python3.7/dist-packages (from packaging>=20.0->transformers) (3.0.7)\n",
            "Requirement already satisfied: zipp>=0.5 in /usr/local/lib/python3.7/dist-packages (from importlib-metadata->transformers) (3.7.0)\n",
            "Requirement already satisfied: idna<3,>=2.5 in /usr/local/lib/python3.7/dist-packages (from requests->transformers) (2.10)\n",
            "Requirement already satisfied: chardet<4,>=3.0.2 in /usr/local/lib/python3.7/dist-packages (from requests->transformers) (3.0.4)\n",
            "Requirement already satisfied: urllib3!=1.25.0,!=1.25.1,<1.26,>=1.21.1 in /usr/local/lib/python3.7/dist-packages (from requests->transformers) (1.24.3)\n",
            "Requirement already satisfied: certifi>=2017.4.17 in /usr/local/lib/python3.7/dist-packages (from requests->transformers) (2021.10.8)\n",
            "Requirement already satisfied: six in /usr/local/lib/python3.7/dist-packages (from sacremoses->transformers) (1.15.0)\n",
            "Requirement already satisfied: joblib in /usr/local/lib/python3.7/dist-packages (from sacremoses->transformers) (1.1.0)\n",
            "Requirement already satisfied: click in /usr/local/lib/python3.7/dist-packages (from sacremoses->transformers) (7.1.2)\n"
          ]
        }
      ],
      "source": [
        "!pip install transformers"
      ]
    },
    {
      "cell_type": "code",
      "execution_count": 103,
      "metadata": {
        "ExecuteTime": {
          "end_time": "2022-02-19T14:26:59.276355Z",
          "start_time": "2022-02-19T14:26:58.411434Z"
        },
        "id": "6mC9lhsJ4WSh"
      },
      "outputs": [],
      "source": [
        "import torch\n",
        "from torch.autograd import Variable\n",
        "import torch.nn as nn\n",
        "import torch.nn.functional as F\n",
        "from torch.optim import SGD\n",
        "from transformers import get_linear_schedule_with_warmup\n",
        "from torch.utils.data import Dataset, DataLoader\n",
        "from tqdm import tqdm"
      ]
    },
    {
      "cell_type": "code",
      "execution_count": 104,
      "metadata": {
        "ExecuteTime": {
          "end_time": "2022-02-19T14:30:05.586472Z",
          "start_time": "2022-02-19T14:30:05.583611Z"
        },
        "id": "17g7UZ5g4WSi"
      },
      "outputs": [],
      "source": [
        "# seed\n",
        "seed = 7777\n",
        "np.random.seed(seed)\n",
        "random.seed(seed)\n",
        "torch.manual_seed(seed)\n",
        "torch.cuda.manual_seed_all(seed)"
      ]
    },
    {
      "cell_type": "code",
      "execution_count": 105,
      "metadata": {
        "ExecuteTime": {
          "end_time": "2022-02-19T14:30:06.721039Z",
          "start_time": "2022-02-19T14:30:06.717559Z"
        },
        "colab": {
          "base_uri": "https://localhost:8080/"
        },
        "id": "v3UlC7Jn4WSi",
        "outputId": "02ab0c7e-e8e9-4f80-8661-5acf51c4d13a"
      },
      "outputs": [
        {
          "name": "stdout",
          "output_type": "stream",
          "text": [
            "# available GPUs : 1\n",
            "GPU name : Tesla P100-PCIE-16GB\n",
            "cuda\n"
          ]
        }
      ],
      "source": [
        "# device type\n",
        "if torch.cuda.is_available():\n",
        "    device = torch.device(\"cuda\")\n",
        "    print(f\"# available GPUs : {torch.cuda.device_count()}\")\n",
        "    print(f\"GPU name : {torch.cuda.get_device_name()}\")\n",
        "else:\n",
        "    device = torch.device(\"cpu\")\n",
        "print(device)"
      ]
    },
    {
      "cell_type": "markdown",
      "metadata": {
        "id": "k8sfv5KY4WSk"
      },
      "source": [
        "## Basic"
      ]
    },
    {
      "cell_type": "markdown",
      "metadata": {
        "id": "sHs8_LU04WSj"
      },
      "source": [
        "### 토크나이징이 완료된 위키 백과 코퍼스 다운로드 및 불용어 사전 크롤링\n",
        "- 나의 구글 드라이브에 데이터를 다운받아 영구적으로 사용할 수 있도록 하자. \n",
        "    - [데이터 다운로드 출처](https://ratsgo.github.io/embedding/downloaddata.html)\n",
        "- 다운받은 데이터는 토크나이징이 완료된 상태이지만 불용어를 포함하고 있다. 따라서 향후 불용어를 제거하기 위해 불용어 사전을 크롤링하자. \n",
        "    - [불용어 사전 출처](https://www.ranks.nl/stopwords/korean)"
      ]
    },
    {
      "cell_type": "code",
      "execution_count": 106,
      "metadata": {
        "colab": {
          "base_uri": "https://localhost:8080/"
        },
        "id": "KYiz1fdNsAqp",
        "outputId": "a776fc1b-031c-4e86-c173-7a286ec44663"
      },
      "outputs": [
        {
          "name": "stdout",
          "output_type": "stream",
          "text": [
            "Drive already mounted at /content/drive; to attempt to forcibly remount, call drive.mount(\"/content/drive\", force_remount=True).\n"
          ]
        }
      ],
      "source": [
        "from google.colab import drive\n",
        "drive.mount(\"/content/drive\")"
      ]
    },
    {
      "cell_type": "code",
      "execution_count": 107,
      "metadata": {
        "colab": {
          "base_uri": "https://localhost:8080/"
        },
        "id": "Z2WZ0P4wsAqp",
        "outputId": "82c29340-0e0e-4f14-9369-ac676563bc01"
      },
      "outputs": [
        {
          "name": "stdout",
          "output_type": "stream",
          "text": [
            "/content/drive/MyDrive/tokenized\n"
          ]
        }
      ],
      "source": [
        "%cd  '/content/drive/MyDrive/tokenized'"
      ]
    },
    {
      "cell_type": "code",
      "execution_count": 108,
      "metadata": {
        "ExecuteTime": {
          "end_time": "2022-02-19T14:27:11.886643Z",
          "start_time": "2022-02-19T14:27:11.884858Z"
        },
        "colab": {
          "base_uri": "https://localhost:8080/",
          "height": 36
        },
        "id": "4QPBJ6UZ4WSj",
        "outputId": "c9aaf1da-b2f9-4dab-e819-702f636fca80"
      },
      "outputs": [
        {
          "data": {
            "application/vnd.google.colaboratory.intrinsic+json": {
              "type": "string"
            },
            "text/plain": [
              "'!pip install gdown\\n!gdown https://drive.google.com/uc?id=1-OO3CUkaf6Ve7DeMoVawnR_-R8CqGPuM\\n!unzip tokenized.zip'"
            ]
          },
          "execution_count": 108,
          "metadata": {},
          "output_type": "execute_result"
        }
      ],
      "source": [
        "# 데이터 다운로드\n",
        "'''!pip install gdown\n",
        "!gdown https://drive.google.com/uc?id=1-OO3CUkaf6Ve7DeMoVawnR_-R8CqGPuM\n",
        "!unzip tokenized.zip'''"
      ]
    },
    {
      "cell_type": "code",
      "execution_count": 109,
      "metadata": {
        "ExecuteTime": {
          "end_time": "2022-02-19T14:27:15.633947Z",
          "start_time": "2022-02-19T14:27:13.829982Z"
        },
        "colab": {
          "base_uri": "https://localhost:8080/"
        },
        "id": "cTHCHmO24WSj",
        "outputId": "ecc54d41-62ea-41ba-ab36-0d47f4bf56cf"
      },
      "outputs": [
        {
          "name": "stderr",
          "output_type": "stream",
          "text": [
            "/usr/local/lib/python3.7/dist-packages/urllib3/connectionpool.py:847: InsecureRequestWarning: Unverified HTTPS request is being made. Adding certificate verification is strongly advised. See: https://urllib3.readthedocs.io/en/latest/advanced-usage.html#ssl-warnings\n",
            "  InsecureRequestWarning)\n"
          ]
        },
        {
          "name": "stdout",
          "output_type": "stream",
          "text": [
            "# Korean stop words: 677\n"
          ]
        }
      ],
      "source": [
        "# 한국어 불용어 리스트 크롤링\n",
        "import requests\n",
        "from bs4 import BeautifulSoup\n",
        "\n",
        "url = \"https://www.ranks.nl/stopwords/korean\"\n",
        "response = requests.get(url, verify = False)\n",
        "\n",
        "if response.status_code == 200:\n",
        "    soup = BeautifulSoup(response.text,'html.parser')\n",
        "    content = soup.select_one('#article178ebefbfb1b165454ec9f168f545239 > div.panel-body > table > tbody > tr')\n",
        "    stop_words=[]\n",
        "    for x in content.strings:\n",
        "        x=x.strip()\n",
        "        if x:\n",
        "            stop_words.append(x)\n",
        "    print(f\"# Korean stop words: {len(stop_words)}\")\n",
        "else:\n",
        "    print(response.status_code)"
      ]
    },
    {
      "cell_type": "code",
      "execution_count": 110,
      "metadata": {
        "ExecuteTime": {
          "end_time": "2022-02-19T14:27:15.642775Z",
          "start_time": "2022-02-19T14:27:15.635333Z"
        },
        "colab": {
          "base_uri": "https://localhost:8080/",
          "height": 36
        },
        "id": "3d0IqhDF4WSk",
        "outputId": "6f2dbef3-8146-46d8-8e33-13e0a63efdc6"
      },
      "outputs": [
        {
          "data": {
            "application/vnd.google.colaboratory.intrinsic+json": {
              "type": "string"
            },
            "text/plain": [
              "'아'"
            ]
          },
          "execution_count": 110,
          "metadata": {},
          "output_type": "execute_result"
        }
      ],
      "source": [
        "stop_words[0]"
      ]
    },
    {
      "cell_type": "markdown",
      "metadata": {
        "id": "_t76Q1pQ4WSk"
      },
      "source": [
        "### 단어 사전 구축 함수 구현 \n",
        "- 문서 리스트를 입력 받아 사전을 생성하는 `make_vocab()` 함수를 구현하라.\n",
        "- 함수 정의\n",
        "    - 입력 매개변수\n",
        "        - docs : 문서 리스트\n",
        "        - min_count : 최소 단어 등장 빈도수 (단어 빈도가 `min_count` 미만인 단어는 사전에 포함하지 않음)\n",
        "    - 조건\n",
        "        - 문서 길이 제한\n",
        "            - 단어 개수가 3개 이하인 문서는 처리하지 않음. (skip)\n",
        "        - 사전에 포함되는 단어 빈도수 제한\n",
        "            - 단어가 빈도가 `min_count` 미만은 단어는 사전에 포함하지 않음.\n",
        "        - 불용어 제거 \n",
        "            - 불용어 리스트에 포함된 단어는 제거 \n",
        "    - 반환값 \n",
        "        - word2count : 단어별 빈도 사전 (key: 단어, value: 등장 횟수)\n",
        "        - wid2word : 단어별 인덱스(wid) 사전 (key: 단어 인덱스(int), value: 단어)\n",
        "        - word2wid : 인덱스(wid)별 단어 사전 (key: 단어, value: 단어 인덱스(int))"
      ]
    },
    {
      "cell_type": "code",
      "execution_count": 111,
      "metadata": {
        "ExecuteTime": {
          "end_time": "2022-02-19T14:33:01.637431Z",
          "start_time": "2022-02-19T14:32:56.730711Z"
        },
        "id": "xkjqztIA4WSl"
      },
      "outputs": [],
      "source": [
        "# 코퍼스 로드\n",
        "## 순수 텍스트 파일이며 1개 라인에 1개 문서가 기록\n",
        "\n",
        "docs_text = pd.read_csv('/content/drive/MyDrive/tokenized/wiki_ko_mecab.txt', sep = \"\\n\")"
      ]
    },
    {
      "cell_type": "code",
      "execution_count": 112,
      "metadata": {
        "id": "G_9kJyaNQxoB"
      },
      "outputs": [],
      "source": [
        "# docs : 문서 리스트\n",
        "docs = docs_text.values.tolist()"
      ]
    },
    {
      "cell_type": "code",
      "execution_count": 113,
      "metadata": {
        "ExecuteTime": {
          "end_time": "2022-02-19T14:33:03.423002Z",
          "start_time": "2022-02-19T14:33:03.419818Z"
        },
        "colab": {
          "base_uri": "https://localhost:8080/"
        },
        "id": "WAKB6bbt4WSl",
        "outputId": "c55d822b-f3f3-4df2-b5f5-b80c5d24f503"
      },
      "outputs": [
        {
          "name": "stdout",
          "output_type": "stream",
          "text": [
            "# wiki documents: 311,236\n"
          ]
        }
      ],
      "source": [
        "print(f\"# wiki documents: {len(docs):,}\")"
      ]
    },
    {
      "cell_type": "code",
      "execution_count": 114,
      "metadata": {
        "ExecuteTime": {
          "end_time": "2022-02-19T14:33:04.016885Z",
          "start_time": "2022-02-19T14:33:03.962269Z"
        },
        "id": "-OI1MCXv4WSl"
      },
      "outputs": [],
      "source": [
        "# 문서 개수를 500개로 줄임\n",
        "docs=random.sample(docs,500)"
      ]
    },
    {
      "cell_type": "code",
      "execution_count": 115,
      "metadata": {
        "colab": {
          "base_uri": "https://localhost:8080/"
        },
        "id": "mP5wGu9YwDUw",
        "outputId": "2a2ba165-e864-48aa-ecf0-825ef65396b4"
      },
      "outputs": [
        {
          "name": "stdout",
          "output_type": "stream",
          "text": [
            "# wiki documents: 500\n"
          ]
        }
      ],
      "source": [
        "print(f\"# wiki documents: {len(docs):,}\")"
      ]
    },
    {
      "cell_type": "code",
      "execution_count": 116,
      "metadata": {
        "ExecuteTime": {
          "end_time": "2022-02-19T14:33:26.392627Z",
          "start_time": "2022-02-19T14:33:26.382358Z"
        },
        "id": "aJaEAVm9sAqv"
      },
      "outputs": [],
      "source": [
        "# 문서 내 숫자, 영어 대소문자, 특수문자를 제거 (re package 사용)\n",
        "import re\n",
        "\n",
        "after_re = []\n",
        "for doc in docs:\n",
        "    doc = re.sub('[0-9a-zA-Z-=+,#/\\?:^.@*\\\"※~ㆍ!』‘|\\(\\)\\[\\]`\\'…》\\”\\“\\’·《〈〉★&「」]', '', doc[0])\n",
        "    after_re.append(doc)\n",
        "\n",
        "docs = after_re"
      ]
    },
    {
      "cell_type": "code",
      "execution_count": 117,
      "metadata": {
        "colab": {
          "base_uri": "https://localhost:8080/"
        },
        "id": "sytiSICawMk5",
        "outputId": "8c13e857-167b-444c-97b0-21733644c2a4"
      },
      "outputs": [
        {
          "name": "stdout",
          "output_type": "stream",
          "text": [
            "Check : 아효 부인 박 씨  阿 孝 夫人 朴 氏      는 신라 의 공주 이 자 황후 로  신라 의  대 왕 인 남 해 차차웅  南 解 次次雄  의 딸 이 며 유리 이사금  박환  朴 桓   내 로 갈문왕  奈 老  의 누이 였 다   대 탈해 이사금 의 왕비 이 기 도 하 다  성 은 박  朴  씨 이 다  아니 부인  阿 尼 夫人   아로 부인  阿 老 夫人  이 라고 도 한다  신라 제  대 왕 남해왕  南 解 王  과 그 비인 운제 부인  雲 帝 夫人  사이 에 맏 딸 로 태어났 다  남 해 차차웅 은 석탈해 의 재능 을 알아보 고 그 에게 맏 딸 인 아효 부인 을 시집보냈 으며 왕위 를 계승 하 게 하 였 다  그러나 석탈해 는 유리 이사금 에게 지위 를 양보 하 였 고 유리 이사금 의 천거 로 다음 왕위 를 계승 하 게 되 었 다    년 남편 탈해 이사금 이 왕 으로 즉위 하 면서 왕비 에 책봉 되 었 다  오랫동안 아들 이 없 자 탈해 이사금 이 시림 에서 김알지 를 발견 하 여 양자 로 정하 면서 김알지 의 양어머니 가 되 었 다  그러나 뒤 에 아들 석구 추가 태어났 다  증조모 사소부인  娑 蘇 夫人  선도 산 성모  조부 혁거세 거서간  赫居世 居西干  조모 알영부인  閼英 夫人  부왕 남 해 차차웅  南 解 次次雄  모후 운제 부인  雲 帝 夫人   오빠 유리 이사금  儒 理 尼 師 今   남동생 박환  朴 桓   남동생 내 로 갈문왕  奈 老 葛 文王   남편 탈해이사금  脫 解 尼 師 今   아들 강조  康 造   갈문왕 에 추봉  아들 석 구추  昔 仇 鄒   아들 석구 광  양아들 김알지  金 閼 智  또는 성한 김수로 문화방송 주말 특별 기획 드라마        년      년  배우  강별  남 해 차차웅 탈해 이사금 박특 알영부인 유리 이사금 분류  신라 의 왕족 분류  신라 의 왕비 분류  탈해 이사금\n"
          ]
        }
      ],
      "source": [
        "print(f\"Check : {docs[0][:1000]}\")"
      ]
    },
    {
      "cell_type": "code",
      "execution_count": 118,
      "metadata": {
        "ExecuteTime": {
          "end_time": "2022-02-19T14:33:27.904880Z",
          "start_time": "2022-02-19T14:33:27.899620Z"
        },
        "id": "OAkkQsvO4WSl"
      },
      "outputs": [],
      "source": [
        "from numpy.ma.core import identity\n",
        "def make_vocab(docs:List[str], min_count:int):\n",
        "    \"\"\"\n",
        "    'docs'문서 리스트를 입력 받아 단어 사전을 생성.\n",
        "    \n",
        "    return \n",
        "        - word2count : 단어별 빈도 사전\n",
        "        - wid2word : 단어별 인덱스(wid) 사전 \n",
        "        - word2wid : 인덱스(wid)별 단어 사전\n",
        "    \"\"\"\n",
        "\n",
        "    word2count = dict()\n",
        "    word2id = dict()\n",
        "    id2word = dict()\n",
        "\n",
        "    word_nomi = dict()\n",
        "\n",
        "    \n",
        "    for doc in tqdm(docs):\n",
        "        word_list = doc.split()\n",
        "\n",
        "        # 1. 문서 길이 제한\n",
        "        # 2. 임시 딕셔너리(_word2count)에 단어별 등장 빈도 기록\n",
        "        # 3. 불용어 제거\n",
        "\n",
        "        if len(word_list) > 3 :\n",
        "            for word in word_list:\n",
        "                if word not in stop_words:\n",
        "                    if word in word_nomi :\n",
        "                        word_nomi[word] += 1\n",
        "                    else :\n",
        "                        word_nomi[word] = 0\n",
        "\n",
        "\n",
        "    # 4. 토큰 최소 빈도를 만족하는 토큰만 사전에 추가\n",
        "    id = 0\n",
        "    for key, value in word_nomi.items():\n",
        "        if value >= min_count:\n",
        "            word2id[key] = id\n",
        "            id2word[id] = key\n",
        "            word2count[key] = value\n",
        "            id += 1\n",
        "\n",
        "    \n",
        "    return word2count, word2id, id2word"
      ]
    },
    {
      "cell_type": "code",
      "execution_count": 119,
      "metadata": {
        "ExecuteTime": {
          "end_time": "2022-02-19T14:33:30.157872Z",
          "start_time": "2022-02-19T14:33:28.473330Z"
        },
        "colab": {
          "base_uri": "https://localhost:8080/"
        },
        "id": "ieS5SiQx4WSm",
        "outputId": "90bb5c57-1029-4e1e-db3d-a5d7eefac30a"
      },
      "outputs": [
        {
          "name": "stderr",
          "output_type": "stream",
          "text": [
            "100%|██████████| 500/500 [00:02<00:00, 221.53it/s]\n"
          ]
        }
      ],
      "source": [
        "word2count, word2id, id2word = make_vocab(docs, min_count=5)"
      ]
    },
    {
      "cell_type": "code",
      "execution_count": 120,
      "metadata": {
        "ExecuteTime": {
          "end_time": "2022-02-19T14:33:30.754722Z",
          "start_time": "2022-02-19T14:33:30.752115Z"
        },
        "colab": {
          "base_uri": "https://localhost:8080/"
        },
        "id": "cT1MRN1EJtx6",
        "outputId": "22bbc08c-e448-46f5-b5d6-e8c5ad6c28f6"
      },
      "outputs": [
        {
          "name": "stdout",
          "output_type": "stream",
          "text": [
            "137,959\n"
          ]
        }
      ],
      "source": [
        "doc_len = sum(word2count.values()) # 문서 내 모든 단어의 개수 (단어별 등장 빈도의 총 합)\n",
        "print(f\"{doc_len:,}\")"
      ]
    },
    {
      "cell_type": "code",
      "execution_count": 121,
      "metadata": {
        "ExecuteTime": {
          "end_time": "2022-02-19T14:33:32.916830Z",
          "start_time": "2022-02-19T14:33:32.914355Z"
        },
        "colab": {
          "base_uri": "https://localhost:8080/"
        },
        "id": "e_1MneB54WSm",
        "outputId": "64f6849b-c726-4247-ea06-7408cc3042ca"
      },
      "outputs": [
        {
          "name": "stdout",
          "output_type": "stream",
          "text": [
            "# unique word : 4,445\n"
          ]
        }
      ],
      "source": [
        "print(f\"# unique word : {len(word2id):,}\")"
      ]
    },
    {
      "cell_type": "markdown",
      "metadata": {
        "id": "gHxtZqtk4WSm"
      },
      "source": [
        "### Dataset 클래스 구현\n",
        "- Skip-Gram 방식의 학습 데이터 셋(`Tuple(target_word, context_word)`)을 생성하는 `CustomDataset` 클래스를 구현하라.\n",
        "- 클래스 정의\n",
        "    - 생성자(`__init__()` 함수) 입력 매개변수\n",
        "        - docs: 문서 리스트\n",
        "        - word2id: 단어별 인덱스(wid) 사전\n",
        "        - window_size: Skip-Gram의 윈도우 사이즈\n",
        "    - 메소드\n",
        "        - `make_pair()`\n",
        "            - 문서를 단어로 쪼개고, 사전에 존재하는 단어들만 단어 인덱스로 변경\n",
        "            - Skip-gram 방식의 `(target_word, context_word)` 페어(tuple)들을 `pairs` 리스트에 담아 반환\n",
        "        - `__len__()`\n",
        "            - `pairs` 리스트의 개수 반환\n",
        "        - `__getitem__(index)`\n",
        "            - `pairs` 리스트를 인덱싱\n",
        "    - 주의 사항\n",
        "        - `nn.Module`를 부모 클래스로 상속 받음 \n"
      ]
    },
    {
      "cell_type": "code",
      "execution_count": 122,
      "metadata": {
        "ExecuteTime": {
          "end_time": "2022-02-19T14:33:38.111290Z",
          "start_time": "2022-02-19T14:33:38.104531Z"
        },
        "id": "UPiLcYCZ4WSm"
      },
      "outputs": [],
      "source": [
        "class CustomDataset(Dataset):\n",
        "    \"\"\"\n",
        "    문서 리스트를 받아 skip-gram 방식의 (target_word, context_word) 데이터 셋을 생성\n",
        "    \"\"\"\n",
        "    def __init__(self, docs:List[str], word2id:Dict[str,int], window_size:int=5):\n",
        "        self.docs = docs\n",
        "        self.word2id = word2id\n",
        "        self.window_size = window_size\n",
        "        self.pairs = self.make_pair()\n",
        "    \n",
        "    def make_pair(self):\n",
        "        \"\"\"\n",
        "        (target, context) 형식의 Skip-gram pair 데이터 셋 생성 \n",
        "        \"\"\"\n",
        "\n",
        "        pairs = []\n",
        "        for doc in docs:\n",
        "            id_list = []\n",
        "            word_list = doc.split()\n",
        "            for word in word_list:\n",
        "                if word in word2id:\n",
        "                    id_list.append(word2id[word])\n",
        "            for i in range(len(id_list)):\n",
        "                for j in range(-4, 5):\n",
        "                    if j == 0:\n",
        "                        continue\n",
        "                    elif 0 <= i+j < len(id_list):\n",
        "                        pairs.append((id_list[i], id_list[i+j]))\n",
        "\n",
        "        return pairs\n",
        "        \n",
        "    def __len__(self):\n",
        "        return len(self.pairs)\n",
        "    \n",
        "    def __getitem__(self, idx):\n",
        "        return self.pairs[idx]"
      ]
    },
    {
      "cell_type": "code",
      "execution_count": 123,
      "metadata": {
        "ExecuteTime": {
          "end_time": "2022-02-19T14:33:38.945361Z",
          "start_time": "2022-02-19T14:33:38.385577Z"
        },
        "id": "YntOw2q94WSm"
      },
      "outputs": [],
      "source": [
        "dataset = CustomDataset(docs, word2id, window_size=5)"
      ]
    },
    {
      "cell_type": "code",
      "execution_count": 124,
      "metadata": {
        "ExecuteTime": {
          "end_time": "2022-02-19T14:33:38.949614Z",
          "start_time": "2022-02-19T14:33:38.946663Z"
        },
        "colab": {
          "base_uri": "https://localhost:8080/"
        },
        "id": "-RpNbAjk4WSn",
        "outputId": "9a9cf265-a2ef-4d2e-d310-b6e709897e6b"
      },
      "outputs": [
        {
          "data": {
            "text/plain": [
              "1129232"
            ]
          },
          "execution_count": 124,
          "metadata": {},
          "output_type": "execute_result"
        }
      ],
      "source": [
        "len(dataset)"
      ]
    },
    {
      "cell_type": "code",
      "execution_count": 125,
      "metadata": {
        "ExecuteTime": {
          "end_time": "2022-02-19T14:33:43.072635Z",
          "start_time": "2022-02-19T14:33:43.069526Z"
        },
        "colab": {
          "base_uri": "https://localhost:8080/"
        },
        "id": "1FBwcL4H4WSn",
        "outputId": "46a81fb7-39a0-4b58-a434-f3ffd806c177"
      },
      "outputs": [
        {
          "data": {
            "text/plain": [
              "(0, 1)"
            ]
          },
          "execution_count": 125,
          "metadata": {},
          "output_type": "execute_result"
        }
      ],
      "source": [
        "dataset[0]"
      ]
    },
    {
      "cell_type": "code",
      "execution_count": 126,
      "metadata": {
        "ExecuteTime": {
          "end_time": "2022-02-19T14:33:51.040595Z",
          "start_time": "2022-02-19T14:33:51.031473Z"
        },
        "colab": {
          "base_uri": "https://localhost:8080/"
        },
        "id": "wTAwTjKk4WSn",
        "outputId": "0c650ac8-169d-4c71-baf1-f305509e4ba9",
        "scrolled": true
      },
      "outputs": [
        {
          "name": "stdout",
          "output_type": "stream",
          "text": [
            "(부인, 박)\n",
            "(부인, 씨)\n",
            "(부인, 孝)\n",
            "(부인, 夫人)\n",
            "(박, 부인)\n",
            "(박, 씨)\n",
            "(박, 孝)\n",
            "(박, 夫人)\n",
            "(박, 朴)\n",
            "(씨, 부인)\n",
            "(씨, 박)\n",
            "(씨, 孝)\n",
            "(씨, 夫人)\n",
            "(씨, 朴)\n",
            "(씨, 氏)\n",
            "(孝, 부인)\n",
            "(孝, 박)\n",
            "(孝, 씨)\n",
            "(孝, 夫人)\n",
            "(孝, 朴)\n",
            "(孝, 氏)\n",
            "(孝, 는)\n",
            "(夫人, 부인)\n",
            "(夫人, 박)\n",
            "(夫人, 씨)\n",
            "(夫人, 孝)\n",
            "(夫人, 朴)\n",
            "(夫人, 氏)\n",
            "(夫人, 는)\n",
            "(夫人, 신라)\n",
            "(朴, 박)\n",
            "(朴, 씨)\n",
            "(朴, 孝)\n",
            "(朴, 夫人)\n",
            "(朴, 氏)\n",
            "(朴, 는)\n",
            "(朴, 신라)\n",
            "(朴, 공주)\n",
            "(氏, 씨)\n",
            "(氏, 孝)\n",
            "(氏, 夫人)\n",
            "(氏, 朴)\n",
            "(氏, 는)\n",
            "(氏, 신라)\n",
            "(氏, 공주)\n",
            "(氏, 신라)\n",
            "(는, 孝)\n",
            "(는, 夫人)\n",
            "(는, 朴)\n",
            "(는, 氏)\n",
            "(는, 신라)\n",
            "(는, 공주)\n",
            "(는, 신라)\n",
            "(는, 대)\n",
            "(신라, 夫人)\n",
            "(신라, 朴)\n",
            "(신라, 氏)\n",
            "(신라, 는)\n",
            "(신라, 공주)\n",
            "(신라, 신라)\n",
            "(신라, 대)\n",
            "(신라, 왕)\n",
            "(공주, 朴)\n",
            "(공주, 氏)\n",
            "(공주, 는)\n",
            "(공주, 신라)\n",
            "(공주, 신라)\n",
            "(공주, 대)\n",
            "(공주, 왕)\n",
            "(공주, 인)\n",
            "(신라, 氏)\n",
            "(신라, 는)\n",
            "(신라, 신라)\n",
            "(신라, 공주)\n",
            "(신라, 대)\n",
            "(신라, 왕)\n",
            "(신라, 인)\n",
            "(신라, 남)\n",
            "(대, 는)\n",
            "(대, 신라)\n",
            "(대, 공주)\n",
            "(대, 신라)\n",
            "(대, 왕)\n",
            "(대, 인)\n",
            "(대, 남)\n",
            "(대, 해)\n",
            "(왕, 신라)\n",
            "(왕, 공주)\n",
            "(왕, 신라)\n",
            "(왕, 대)\n",
            "(왕, 인)\n",
            "(왕, 남)\n",
            "(왕, 해)\n",
            "(왕, 南)\n",
            "(인, 공주)\n",
            "(인, 신라)\n",
            "(인, 대)\n",
            "(인, 왕)\n",
            "(인, 남)\n",
            "(인, 해)\n"
          ]
        }
      ],
      "source": [
        "# verify (target word, context word)\n",
        "for i, pair in enumerate(dataset):\n",
        "    if i==100:\n",
        "        break\n",
        "    print(f\"({id2word[pair[0]]}, {id2word[pair[1]]})\")\n",
        "    "
      ]
    },
    {
      "cell_type": "markdown",
      "metadata": {
        "id": "P0Z50-Dr4WSn"
      },
      "source": [
        "### 위에서 생성한 `dataset`으로 DataLoader  객체 생성\n",
        "- `DataLoader` 클래스로 `train_dataloader`객체를 생성하라. \n",
        "    - 생성자 매개변수와 값\n",
        "        - dataset = 위에서 생성한 dataset\n",
        "        - batch_size = 64\n",
        "        - shuffle = True"
      ]
    },
    {
      "cell_type": "code",
      "execution_count": 127,
      "metadata": {
        "ExecuteTime": {
          "end_time": "2022-02-19T14:34:02.645176Z",
          "start_time": "2022-02-19T14:34:02.642780Z"
        },
        "id": "GXcAvFB14WSn"
      },
      "outputs": [],
      "source": [
        "train_dataloader = DataLoader(dataset, batch_size = 64, shuffle = True)"
      ]
    },
    {
      "cell_type": "code",
      "execution_count": 128,
      "metadata": {
        "ExecuteTime": {
          "end_time": "2022-02-19T14:34:02.777322Z",
          "start_time": "2022-02-19T14:34:02.774335Z"
        },
        "colab": {
          "base_uri": "https://localhost:8080/"
        },
        "id": "4Yfcwi_14WSn",
        "outputId": "5694cebd-cb17-4159-b61d-bd4c22da72ae"
      },
      "outputs": [
        {
          "data": {
            "text/plain": [
              "17645"
            ]
          },
          "execution_count": 128,
          "metadata": {},
          "output_type": "execute_result"
        }
      ],
      "source": [
        "len(train_dataloader)"
      ]
    },
    {
      "cell_type": "markdown",
      "metadata": {
        "id": "eTs16gsU4WSn"
      },
      "source": [
        "### Negative Sampling 함수 구현\n",
        "- Skip-Gram은 복잡도를 줄이기 위한 방법으로 negative sampling을 사용한다. \n",
        "- `sample_table`이 다음과 같이 주어졌을 때, sample_table에서 랜덤으로 값을 뽑아 (batch_size, n_neg_sample) shape의 matrix를 반환하는 `get_neg_v_negative_sampling()`함수를 구현하라. \n",
        "- Sample Table은 negative distribution을 따른다. \n",
        "    - [negative distribution 설명](https://aegis4048.github.io/optimize_computational_efficiency_of_skip-gram_with_negative_sampling#How-are-negative-samples-drawn?)\n",
        "- 함수 정의\n",
        "    - 입력 매개변수\n",
        "        - batch_size : 배치 사이즈, matrix의 row 개수 \n",
        "        - n_neg_sample : negative sample의 개수, matrix의 column 개수\n",
        "    - 반환값 \n",
        "        - neg_v : 추출된 negative sample (2차원의 리스트)\n"
      ]
    },
    {
      "cell_type": "code",
      "execution_count": 129,
      "metadata": {
        "ExecuteTime": {
          "end_time": "2022-02-19T14:34:11.397509Z",
          "start_time": "2022-02-19T14:34:11.386389Z"
        },
        "id": "PUqIB6dH4WSn",
        "scrolled": true
      },
      "outputs": [],
      "source": [
        "# negative sample을 추출할 sample table 생성 (해당 코드를 참고)\n",
        "sample_table = []\n",
        "sample_table_size = doc_len\n",
        "\n",
        "# noise distribution 생성\n",
        "alpha = 3/4\n",
        "frequency_list = np.array(list(word2count.values())) ** alpha\n",
        "Z = sum(frequency_list)\n",
        "ratio = frequency_list/Z\n",
        "negative_sample_dist = np.round(ratio*sample_table_size)\n",
        "\n",
        "for wid, c in enumerate(negative_sample_dist):\n",
        "    sample_table.extend([wid]*int(c))"
      ]
    },
    {
      "cell_type": "code",
      "execution_count": 130,
      "metadata": {
        "ExecuteTime": {
          "end_time": "2022-02-19T14:34:11.508414Z",
          "start_time": "2022-02-19T14:34:11.505464Z"
        },
        "colab": {
          "base_uri": "https://localhost:8080/"
        },
        "id": "Wdu8qK8x4WSn",
        "outputId": "4572ae35-db3e-4caa-f432-3c3917824d19"
      },
      "outputs": [
        {
          "data": {
            "text/plain": [
              "137701"
            ]
          },
          "execution_count": 130,
          "metadata": {},
          "output_type": "execute_result"
        }
      ],
      "source": [
        "len(sample_table)"
      ]
    },
    {
      "cell_type": "code",
      "execution_count": 131,
      "metadata": {
        "ExecuteTime": {
          "end_time": "2022-02-19T14:34:11.656046Z",
          "start_time": "2022-02-19T14:34:11.653325Z"
        },
        "id": "mQIVrOIR4WSn"
      },
      "outputs": [],
      "source": [
        "def get_neg_v_negative_sampling(batch_size:int, n_neg_sample:int):\n",
        "    \"\"\"\n",
        "    위에서 정의한 sample_table에서 (batch_size, n_neg_sample) shape만큼 랜덤 추출해 \"네거티브 샘플 메트릭스\"를 생성\n",
        "    np.random.choice() 함수 활용 (위에서 정의한 sample_table을 함수의 argument로 사용)\n",
        "    \"\"\"\n",
        "    neg_v = np.random.choice(sample_table, (batch_size, n_neg_sample))\n",
        "    \n",
        "    return neg_v"
      ]
    },
    {
      "cell_type": "code",
      "execution_count": 132,
      "metadata": {
        "ExecuteTime": {
          "end_time": "2022-02-19T14:34:12.345976Z",
          "start_time": "2022-02-19T14:34:12.333448Z"
        },
        "colab": {
          "base_uri": "https://localhost:8080/"
        },
        "id": "8wwT4Af04WSo",
        "outputId": "17827508-6026-450f-e90e-c0dd6a742682"
      },
      "outputs": [
        {
          "data": {
            "text/plain": [
              "array([[  36,   52, 2840, 2009,  284],\n",
              "       [4301,  361, 3551, 1260,  257],\n",
              "       [ 197,   72, 3537, 1618, 1550],\n",
              "       [ 840, 3611,  866,  114,  634]])"
            ]
          },
          "execution_count": 132,
          "metadata": {},
          "output_type": "execute_result"
        }
      ],
      "source": [
        "get_neg_v_negative_sampling(4, 5)"
      ]
    },
    {
      "cell_type": "markdown",
      "metadata": {
        "id": "nLnDXPvJ4WSo"
      },
      "source": [
        "## Challenge"
      ]
    },
    {
      "cell_type": "markdown",
      "metadata": {
        "id": "B5UubCzK4WSo"
      },
      "source": [
        "### 미니 튜토리얼\n",
        "- 아래 튜토리얼을 따라하며 Skip-Gram 모델의 `forward` 및 `loss` 연산 방식을 이해하자\n",
        "- Reference\n",
        "    - [torch.nn.Embedding](https://pytorch.org/docs/stable/generated/torch.nn.Embedding.html)\n",
        "    - [torch bmm](https://pytorch.org/docs/stable/generated/torch.bmm.html)\n",
        "    - [Skip-Gram negative sampling loss function 설명 영문 블로그](https://aegis4048.github.io/optimize_computational_efficiency_of_skip-gram_with_negative_sampling#Derivation-of-Cost-Function-in-Negative-Sampling)\n",
        "    - [Skip-Gram negative sampling loss function 설명 한글 블로그](https://reniew.github.io/22/)"
      ]
    },
    {
      "cell_type": "code",
      "execution_count": 133,
      "metadata": {
        "ExecuteTime": {
          "end_time": "2022-02-19T12:51:46.954048Z",
          "start_time": "2022-02-19T12:51:46.951529Z"
        },
        "id": "IAR68hsY4WSo"
      },
      "outputs": [],
      "source": [
        "# hyper parameter example\n",
        "emb_size = 30000 # vocab size\n",
        "emb_dimension = 300 # word embedding 차원\n",
        "n_neg_sample = 5\n",
        "batch_size = 32"
      ]
    },
    {
      "cell_type": "code",
      "execution_count": 134,
      "metadata": {
        "ExecuteTime": {
          "end_time": "2022-02-19T12:51:49.340056Z",
          "start_time": "2022-02-19T12:51:47.300999Z"
        },
        "id": "zzOsVUn94WSo"
      },
      "outputs": [],
      "source": [
        "# 1. Embedding Matrix와 Context Matrix를 생성\n",
        "u_embedding = nn.Embedding(emb_size, emb_dimension, sparse=True).to(device)\n",
        "v_embedding = nn.Embedding(emb_size, emb_dimension, sparse=True).to(device)"
      ]
    },
    {
      "cell_type": "code",
      "execution_count": 135,
      "metadata": {
        "ExecuteTime": {
          "end_time": "2022-02-19T12:51:49.352240Z",
          "start_time": "2022-02-19T12:51:49.341437Z"
        },
        "colab": {
          "base_uri": "https://localhost:8080/"
        },
        "id": "I7J_ADc44WSo",
        "outputId": "96d10999-4945-4e36-8ed1-9c98bececb99"
      },
      "outputs": [
        {
          "name": "stdout",
          "output_type": "stream",
          "text": [
            "Target word idx : tensor([24460, 10634,  2864, 23952,  3320, 15187, 19625, 26546, 27339,  3920,\n",
            "        25847,  6023,  5055,  7070,  6291, 10245, 15926,   641, 20178,  4565,\n",
            "         4784, 26715, 16955, 28742, 17947, 19774,  8065, 22605,  3061, 28965,\n",
            "         3056, 17963]) Pos context word idx : tensor([23224,  5636, 23712,  5234,  3991, 17897, 25123, 17938, 19634, 24228,\n",
            "          693,   799, 25457,  1308, 28935, 25696,  5601, 23878,  8312,  1292,\n",
            "        21380, 16974,  9318,  9578, 12915, 29271, 26465, 20572,  2362, 25929,\n",
            "        19754, 29080]) Neg context word idx : [[ 944 4355 1402  630 1476]\n",
            " [ 748 1962  504 1846 4072]\n",
            " [1444  346   72 3989 2579]\n",
            " [  23  958  543  677 4345]\n",
            " [ 619 2976 1252  965 2798]\n",
            " [2613  697 3094  114 3968]\n",
            " [ 265  136 2539  312 1028]\n",
            " [2885  530  131 3800 1389]\n",
            " [ 743 1546  844 1888 3210]\n",
            " [ 459 1265 3349  329 1765]\n",
            " [ 465  102  619 4331 2575]\n",
            " [4176   50 1557  161  536]\n",
            " [2135 1015 4094  938 2954]\n",
            " [1020  117 1345  859 3647]\n",
            " [1947  114 1617  312 1347]\n",
            " [4268 1645  152 2524  619]\n",
            " [2190 4283 3053 2427 1470]\n",
            " [1152 1414 3744   94 1125]\n",
            " [  99   36 3536 1869  226]\n",
            " [1894  924  786 2380 1218]\n",
            " [ 900 1533 3590 3089 1498]\n",
            " [3291  162 1998 3273 1819]\n",
            " [  40  898 3767 4364  161]\n",
            " [ 265 2683 3069 2606  232]\n",
            " [1370 2650   27 2653 3599]\n",
            " [ 965 3210  300  151 2486]\n",
            " [  30 1462 1860   40   23]\n",
            " [ 897  344 1147 1509  251]\n",
            " [4435 2545  318  262   54]\n",
            " [ 443 1356   25  284  262]\n",
            " [ 306 3841 3223 2594  821]\n",
            " [3137   43  674 1452   34]]\n",
            "\n"
          ]
        }
      ],
      "source": [
        "# 2. wid(단어 인덱스)를 임의로 생성\n",
        "pos_u = torch.randint(high = emb_size, size = (batch_size,))\n",
        "pos_v = torch.randint(high = emb_size, size = (batch_size,))\n",
        "neg_v = get_neg_v_negative_sampling(batch_size, n_neg_sample)\n",
        "print(f\"Target word idx : {pos_u} Pos context word idx : {pos_v} Neg context word idx : {neg_v}\\n\")"
      ]
    },
    {
      "cell_type": "code",
      "execution_count": 136,
      "metadata": {
        "ExecuteTime": {
          "end_time": "2022-02-19T12:51:49.364020Z",
          "start_time": "2022-02-19T12:51:49.353486Z"
        },
        "id": "4iEG0nCZ4WSo"
      },
      "outputs": [],
      "source": [
        "# 3. tensor로 변환\n",
        "pos_u = Variable(torch.LongTensor(pos_u)).to(device)\n",
        "pos_v = Variable(torch.LongTensor(pos_v)).to(device)\n",
        "neg_v = Variable(torch.LongTensor(neg_v)).to(device)"
      ]
    },
    {
      "cell_type": "code",
      "execution_count": 137,
      "metadata": {
        "ExecuteTime": {
          "end_time": "2022-02-19T12:51:51.391896Z",
          "start_time": "2022-02-19T12:51:51.387084Z"
        },
        "colab": {
          "base_uri": "https://localhost:8080/"
        },
        "id": "gqbNbajG4WSo",
        "outputId": "65de3cfe-fcb2-4f0f-db4a-f433a98cf33c"
      },
      "outputs": [
        {
          "name": "stdout",
          "output_type": "stream",
          "text": [
            "shape of pos_u embedding : torch.Size([32, 300])\n",
            " shape of pos_v embedding : torch.Size([32, 300])\n",
            " shape of neg_v embedding : torch.Size([32, 5, 300])\n"
          ]
        }
      ],
      "source": [
        "# 4. wid로 각각의 embedding matrix에서 word embedding 값을 가져오기\n",
        "pos_u = u_embedding(pos_u)\n",
        "pos_v = v_embedding(pos_v)\n",
        "neg_v = v_embedding(neg_v)\n",
        "print(f\"shape of pos_u embedding : {pos_u.shape}\\n shape of pos_v embedding : {pos_v.shape}\\n shape of neg_v embedding : {neg_v.shape}\")\n"
      ]
    },
    {
      "cell_type": "code",
      "execution_count": 138,
      "metadata": {
        "ExecuteTime": {
          "end_time": "2022-02-19T12:51:53.121477Z",
          "start_time": "2022-02-19T12:51:52.646148Z"
        },
        "colab": {
          "base_uri": "https://localhost:8080/"
        },
        "id": "uDWUrSwo4WSo",
        "outputId": "3cba5906-6469-4c3b-bc94-d274df68fcde"
      },
      "outputs": [
        {
          "name": "stdout",
          "output_type": "stream",
          "text": [
            "shape of pos logits : torch.Size([32])\n",
            "\n",
            "shape of logits : torch.Size([32, 5])\n"
          ]
        }
      ],
      "source": [
        "# 5. dot product \n",
        "pos_score = torch.mul(pos_u, pos_v) # 행렬 element-wise 곱\n",
        "pos_score = torch.sum(pos_score, dim=1)\n",
        "print(f\"shape of pos logits : {pos_score.shape}\\n\")\n",
        "\n",
        "neg_score = torch.bmm(neg_v, pos_u.unsqueeze(dim=2)).squeeze()\n",
        "print(f\"shape of logits : {neg_score.shape}\")"
      ]
    },
    {
      "cell_type": "code",
      "execution_count": 139,
      "metadata": {
        "ExecuteTime": {
          "end_time": "2022-02-19T12:51:53.670418Z",
          "start_time": "2022-02-19T12:51:53.665671Z"
        },
        "colab": {
          "base_uri": "https://localhost:8080/"
        },
        "id": "adOpcoL54WSo",
        "outputId": "bfeb0d63-98d1-4b1f-88b0-b567cf346a69"
      },
      "outputs": [
        {
          "name": "stdout",
          "output_type": "stream",
          "text": [
            "pos logits : -241.4199676513672\n",
            "neg logits : -1066.60302734375\n",
            "Loss : 1308.02294921875\n"
          ]
        }
      ],
      "source": [
        "# 6. loss 구하기\n",
        "pos_score = F.logsigmoid(pos_score)\n",
        "neg_score = F.logsigmoid(-1*neg_score) # negative의 logit은 minimize 하기 위해 -1 곱함\n",
        "print(f\"pos logits : {pos_score.sum()}\")\n",
        "print(f\"neg logits : {neg_score.sum()}\")\n",
        "loss = -1 * (torch.sum(pos_score) + torch.sum(neg_score))\n",
        "print(f\"Loss : {loss}\")"
      ]
    },
    {
      "cell_type": "markdown",
      "metadata": {
        "id": "muEceOGZ4WSo"
      },
      "source": [
        "### Skip-gram 클래스 구현\n",
        "- Skip-Gram 방식으로 단어 embedding을 학습하는 `SkipGram` 클래스를 구현하라.\n",
        "- 클래스 정의\n",
        "    - 생성자(`__init__()` 함수) 입력 매개변수\n",
        "        - `vocab_size` : 사전내 단어 개수\n",
        "        - `emb_dimension` : 엠베딩 크기\n",
        "        - `device` : 연산 장치 종류\n",
        "    - 생성자에서 생성해야할 변수 \n",
        "        - `vocab_size` : 사전내 단어 개수\n",
        "        - `emb_dimension` : 엠베딩 크기\n",
        "        - `u_embedding` : (vocab_size, emb_dimension) 엠베딩 메트릭스 (target_word)\n",
        "        - `v_embedding` : (vocab_size, emb_dimension) 엠베딩 메트릭스 (context_word)\n",
        "    - 메소드\n",
        "        - `init_embedding()` (제공됨)\n",
        "            - 엠베딩 메트릭스 값을 초기화\n",
        "        - `forward()`\n",
        "            - 위 튜토리얼과 같이 dot product를 수행한 후 score를 생성\n",
        "            - loss를 반환 (loss 설명 추가)\n",
        "        - `save_emedding()` (제공됨)\n",
        "            - `u_embedding`의 단어 엠베딩 값을 단어 별로 파일에 저장\n",
        "    - 주의 사항     \n",
        "        - `nn.Module`를 부모 클래스로 상속 받음 "
      ]
    },
    {
      "cell_type": "code",
      "execution_count": 140,
      "metadata": {
        "ExecuteTime": {
          "end_time": "2022-02-19T14:34:15.731306Z",
          "start_time": "2022-02-19T14:34:15.721129Z"
        },
        "id": "pnmMamP44WSo"
      },
      "outputs": [],
      "source": [
        "class SkipGram(nn.Module):\n",
        "    def __init__(self, vocab_size:int, emb_dimension:int, device:str):\n",
        "        super(SkipGram, self).__init__()\n",
        "        self.vocab_size = vocab_size\n",
        "        self.emb_dimension = emb_dimension\n",
        "        self.u_embedding = nn.Embedding(vocab_size, emb_dimension, sparse=True).to(device)\n",
        "        self.v_embedding = nn.Embedding(vocab_size, emb_dimension, sparse=True).to(device)\n",
        "        self.init_embedding()\n",
        "    \n",
        "    \n",
        "    def init_embedding(self):\n",
        "        \"\"\"\n",
        "        u_embedding과 v_embedding 메트릭스 값을 초기화\n",
        "        \"\"\"\n",
        "        initrange = 0.5 / self.emb_dimension\n",
        "        self.u_embedding.weight.data.uniform_(-initrange, initrange)\n",
        "        self.v_embedding.weight.data.uniform_(-0, 0)\n",
        "    \n",
        "    \n",
        "    def forward(self, pos_u, pos_v, neg_v):\n",
        "        \"\"\"\n",
        "        dot product를 수행한 후 score를 생성\n",
        "        loss 반환\n",
        "        \"\"\"    \n",
        "            \n",
        "        # 각각의 embedding matrix에서 word embedding 값을 가져오기\n",
        "        pos_u = self.u_embedding(pos_u)\n",
        "        pos_v = self.v_embedding(pos_v)\n",
        "        neg_v = self.v_embedding(neg_v)\n",
        "        \n",
        "        # dot product \n",
        "        pos_score = torch.mul(pos_u, pos_v)\n",
        "        pos_score = torch.sum(pos_score, dim=1)\n",
        "        pos_score = F.logsigmoid(pos_score)\n",
        "        \n",
        "        # loss 구하기\n",
        "        neg_score = torch.bmm(neg_v, pos_u.unsqueeze(dim=2)).squeeze()\n",
        "        neg_score = F.logsigmoid(-1*neg_score)\n",
        "\n",
        "        \n",
        "        loss = -1 * (torch.sum(pos_score) + torch.sum(neg_score))\n",
        "\n",
        "        return loss\n",
        "    \n",
        "    def save_embedding(self, id2word, file_name, use_cuda):\n",
        "        \"\"\"\n",
        "        'file_name' 위치에 word와 word_embedding을 line-by로 저장\n",
        "        파일의 첫 줄은 '단어 개수' 그리고 '단어 embedding 사이즈' 값을 입력해야 함\n",
        "        \"\"\"\n",
        "        if use_cuda: # parameter를 gpu 메모리에서 cpu 메모리로 옮김\n",
        "            embedding = self.u_embedding.weight.cpu().data.numpy()\n",
        "        else:\n",
        "            embedding = self.u_embedding.weight.data.numpy()\n",
        "\n",
        "        with open(file_name, 'w') as writer:\n",
        "            # 파일의 첫 줄은 '단어 개수' 그리고 '단어 embedding 사이즈' 값을 입력해야 함\n",
        "            writer.write(f\"{len(id2word)} {embedding.shape[-1]}\\n\")\n",
        "            \n",
        "            for wid, word in id2word.items():\n",
        "                e = embedding[wid]\n",
        "                e = \" \".join([str(e_) for e_ in e])\n",
        "                writer.write(f\"{word} {e}\\n\")"
      ]
    },
    {
      "cell_type": "markdown",
      "metadata": {
        "id": "RqqMo0zL4WSo"
      },
      "source": [
        "## Advanced"
      ]
    },
    {
      "cell_type": "markdown",
      "metadata": {
        "id": "wSWd5gV24WSp"
      },
      "source": [
        "### Skip-Gram 방식의  Word2Vec 클래스 구현\n",
        "- Skip-Gram 방식으로 단어 embedding을 학습하는 `Word2Vec` 클래스를 구현하라.\n",
        "- 클래스 정의\n",
        "    - 생성자(`__init__()`) 입력 매개 변수\n",
        "        - `input_file` : 학습할 문서 리스트\n",
        "        - `output_file_name` : 학습된 word embedding을 저장할 파일 위치\n",
        "        - `device` : 연상 장치 종류\n",
        "        - `emb_dimension` : word embedding 차원\n",
        "        - `batch_size` : 학습 배치 사이즈\n",
        "        - `window_size` : skip-gram 윈도우 사이즈 (context word 개수를 결정)\n",
        "        - `n_neg_sample` : negative sample 개수\n",
        "        - `iteration` : 학습 반복 횟수\n",
        "        - `lr` : learning rate\n",
        "        - `min_count` : 사전에 추가될 단어의 최소 등장 빈도\n",
        "    - 생성자에서 생성해야 할 변수 \n",
        "        - `docs` : 학습할 문서 리스트\n",
        "        - `output_file_name` : 학습된 word embedding을 저장할 파일 위치\n",
        "        - `word2count`, `word2id`, `id2word` : 위에서 구현한 `make_vocab()` 함수의 반환 값\n",
        "        - `device` : 연산 장치 종류\n",
        "        - `emb_size` : vocab의 (unique한) 단어 종류 \n",
        "        - `emb_dimension` : word embedding 차원\n",
        "        - `batch_size` : 학습 배치 사이즈\n",
        "        - `window_size` : skip-gram 윈도우 사이즈 (context word 개수를 결정)\n",
        "        - `n_neg_sample` : negative sample 개수\n",
        "        - `iteration` : 학습 반복 횟수\n",
        "        - `lr` : learning rate\n",
        "        - `model` : `SkipGram` 클래스의 인스턴스\n",
        "        - `optimizer` : `SGD` 클래스의 인스턴스\n",
        "    - 메소드\n",
        "        - `train()`\n",
        "            - 입력 매개변수 \n",
        "                - `train_dataloader`\n",
        "            - Iteration 횟수만큼 input_file 학습 데이터를 학습한다. 매 epoch마다 for loop 돌면서 batch 단위 학습 데이터를 skip gram 모델에 학습함. 학습이 끝나면 word embedding을 output_file_name 파일에 저장.\n",
        "- Reference\n",
        "    - [Optimizer - SGD](https://pytorch.org/docs/stable/generated/torch.optim.SGD.html)"
      ]
    },
    {
      "cell_type": "code",
      "execution_count": 141,
      "metadata": {
        "ExecuteTime": {
          "end_time": "2022-02-19T14:34:20.503555Z",
          "start_time": "2022-02-19T14:34:20.491585Z"
        },
        "id": "Td-GQrqI4WSp"
      },
      "outputs": [],
      "source": [
        "class Word2Vec:\n",
        "    def __init__(self, \n",
        "                input_file: List[str],\n",
        "                output_file_name: str,\n",
        "                 device: str,\n",
        "                 emb_dimension=300,\n",
        "                 batch_size = 64,\n",
        "                 window_size=5,\n",
        "                 n_neg_sample = 5,\n",
        "                 iteration=1,\n",
        "                 lr = 0.02,\n",
        "                 min_count=5):\n",
        "        self.docs = input_file\n",
        "        self.output_file_name = output_file_name\n",
        "        self.word2count, self.word2id, self.id2word = make_vocab(input_file, min_count)\n",
        "        self.device = device\n",
        "        self.emb_size = len(self.word2id)\n",
        "        self.emb_dimension = emb_dimension\n",
        "        self.batch_size = batch_size\n",
        "        self.window_size = window_size\n",
        "        self.n_neg_sample = n_neg_sample\n",
        "        self.iteration = iteration\n",
        "        self.lr = lr\n",
        "        self.model = SkipGram(len(self.word2id), emb_dimension, device)\n",
        "        self.optimizer = SGD(self.model.parameters(), lr) # torch.optim.SGD 클래스 사용\n",
        "\n",
        "        # train() 함수에서 만든 임베딩 결과 파일들을 저장할 폴더 생성 (os.makedirs 사용)\n",
        "        os.makedirs('/content/drive/MyDrive/tokenized/word2vec_wiki')\n",
        "        \n",
        "    \n",
        "    def train(self, train_dataloader):\n",
        "        \n",
        "        # lr 값을 조절하는 스케줄러 인스턴스 변수를 생성\n",
        "        self.scheduler = get_linear_schedule_with_warmup(\n",
        "            optimizer = self.optimizer,\n",
        "            num_warmup_steps=0,\n",
        "            num_training_steps=len(train_dataloader) * self.iteration\n",
        "        )\n",
        "        \n",
        "        for epoch in range(self.iteration):\n",
        "            \n",
        "            print(f\"*****Epoch {epoch} Train Start*****\")\n",
        "            print(f\"*****Epoch {epoch} Total Step {len(train_dataloader)}*****\")\n",
        "            total_loss, batch_loss, batch_step = 0,0,0\n",
        "\n",
        "            for step, batch in enumerate(train_dataloader):\n",
        "                batch_step+=1\n",
        "\n",
        "                pos_u, pos_v = batch\n",
        "                # negative data 생성\n",
        "                neg_v = get_neg_v_negative_sampling(pos_u.shape[0], self.n_neg_sample)\n",
        "                \n",
        "                # 데이터를 tensor화 & device 설정\n",
        "                pos_u = Variable(torch.LongTensor(pos_u)).to(device)\n",
        "                pos_v = Variable(torch.LongTensor(pos_v)).to(device)\n",
        "                neg_v = Variable(torch.LongTensor(neg_v)).to(device)\n",
        "\n",
        "                # model의 gradient 초기화\n",
        "                self.model.zero_grad()\n",
        "                # optimizer의 gradient 초기화\n",
        "                self.optimizer.zero_grad()\n",
        "\n",
        "                # forward\n",
        "                loss = self.model.forward(pos_u, pos_v, neg_v)\n",
        "\n",
        "                # loss 계산\n",
        "                loss.backward() \n",
        "                # optimizer 업데이트\n",
        "                self.optimizer.step() \n",
        "                # scheduler 업데이트\n",
        "                self.scheduler.step()\n",
        "\n",
        "                batch_loss += loss.item()\n",
        "                total_loss += loss.item()\n",
        "                \n",
        "                if (step%500 == 0) and (step!=0):\n",
        "                    print(f\"Step: {step} Loss: {batch_loss/batch_step:.4f} lr: {self.optimizer.param_groups[0]['lr']:.4f}\")\n",
        "                    # 변수 초기화    \n",
        "                    batch_loss, batch_step = 0,0\n",
        "            \n",
        "            print(f\"Epoch {epoch} Total Mean Loss : {total_loss/(step+1):.4f}\")\n",
        "            print(f\"*****Epoch {epoch} Train Finished*****\\n\")\n",
        "            \n",
        "            print(f\"*****Epoch {epoch} Saving Embedding...*****\")\n",
        "            self.model.save_embedding(self.id2word, os.path.join(self.output_file_name, f'w2v_{epoch}.txt'), True if 'cuda' in self.device.type else False)\n",
        "            print(f\"*****Epoch {epoch} Embedding Saved at {os.path.join(self.output_file_name, f'w2v_{epoch}.txt')}*****\\n\")"
      ]
    },
    {
      "cell_type": "code",
      "execution_count": 142,
      "metadata": {
        "ExecuteTime": {
          "end_time": "2022-02-19T14:34:29.561892Z",
          "start_time": "2022-02-19T14:34:26.103659Z"
        },
        "colab": {
          "base_uri": "https://localhost:8080/"
        },
        "id": "Ywx9R8n24WSp",
        "outputId": "da60dc25-57fe-4c2f-f067-2106b8d1a2ee"
      },
      "outputs": [
        {
          "name": "stderr",
          "output_type": "stream",
          "text": [
            "100%|██████████| 500/500 [00:02<00:00, 220.12it/s]\n"
          ]
        }
      ],
      "source": [
        "output_file = os.path.join(\"/content/drive/MyDrive/tokenized\", \"word2vec_wiki\")\n",
        "# Word2Vec 클래스의 인스턴스 생성\n",
        "w2v = Word2Vec(docs, output_file, device, n_neg_sample=10, iteration=3)"
      ]
    },
    {
      "cell_type": "code",
      "execution_count": 143,
      "metadata": {
        "ExecuteTime": {
          "end_time": "2022-02-19T14:34:34.615469Z",
          "start_time": "2022-02-19T14:34:34.055502Z"
        },
        "colab": {
          "base_uri": "https://localhost:8080/"
        },
        "id": "ufBxjKxN4WSp",
        "outputId": "9b47fa88-b39d-42c5-dee2-e39b9a6e8cfd"
      },
      "outputs": [
        {
          "data": {
            "text/plain": [
              "17645"
            ]
          },
          "execution_count": 143,
          "metadata": {},
          "output_type": "execute_result"
        }
      ],
      "source": [
        "# 학습 데이터 셋 및 데이터 로더 생성 (위에서 생성한 w2v의 attribute들을 argument에 적절히 넣기)\n",
        "dataset = CustomDataset(docs, w2v.word2id, window_size=5)\n",
        "train_dataloader = DataLoader(dataset, w2v.batch_size, shuffle = True)\n",
        "len(train_dataloader)"
      ]
    },
    {
      "cell_type": "code",
      "execution_count": 144,
      "metadata": {
        "ExecuteTime": {
          "end_time": "2022-02-19T14:45:38.362817Z",
          "start_time": "2022-02-19T14:34:37.382371Z"
        },
        "colab": {
          "base_uri": "https://localhost:8080/"
        },
        "id": "9JBUrUJ34WSp",
        "outputId": "62b8702e-8112-4d20-eaba-6b2541991044"
      },
      "outputs": [
        {
          "name": "stdout",
          "output_type": "stream",
          "text": [
            "*****Epoch 0 Train Start*****\n",
            "*****Epoch 0 Total Step 17645*****\n",
            "Step: 500 Loss: 88.1511 lr: 0.0198\n",
            "Step: 1000 Loss: 79.3158 lr: 0.0196\n",
            "Step: 1500 Loss: 71.1025 lr: 0.0194\n",
            "Step: 2000 Loss: 66.3279 lr: 0.0192\n",
            "Step: 2500 Loss: 63.3191 lr: 0.0191\n",
            "Step: 3000 Loss: 61.2548 lr: 0.0189\n",
            "Step: 3500 Loss: 59.6306 lr: 0.0187\n",
            "Step: 4000 Loss: 58.6510 lr: 0.0185\n",
            "Step: 4500 Loss: 57.9083 lr: 0.0183\n",
            "Step: 5000 Loss: 57.3011 lr: 0.0181\n",
            "Step: 5500 Loss: 56.7641 lr: 0.0179\n",
            "Step: 6000 Loss: 56.4029 lr: 0.0177\n",
            "Step: 6500 Loss: 56.0454 lr: 0.0175\n",
            "Step: 7000 Loss: 55.6519 lr: 0.0174\n",
            "Step: 7500 Loss: 55.4476 lr: 0.0172\n",
            "Step: 8000 Loss: 55.1592 lr: 0.0170\n",
            "Step: 8500 Loss: 54.8232 lr: 0.0168\n",
            "Step: 9000 Loss: 54.6716 lr: 0.0166\n",
            "Step: 9500 Loss: 54.4707 lr: 0.0164\n",
            "Step: 10000 Loss: 54.2318 lr: 0.0162\n",
            "Step: 10500 Loss: 53.9406 lr: 0.0160\n",
            "Step: 11000 Loss: 53.9781 lr: 0.0158\n",
            "Step: 11500 Loss: 53.7157 lr: 0.0157\n",
            "Step: 12000 Loss: 53.6009 lr: 0.0155\n",
            "Step: 12500 Loss: 53.4616 lr: 0.0153\n",
            "Step: 13000 Loss: 53.3622 lr: 0.0151\n",
            "Step: 13500 Loss: 53.2466 lr: 0.0149\n",
            "Step: 14000 Loss: 52.9445 lr: 0.0147\n",
            "Step: 14500 Loss: 52.9782 lr: 0.0145\n",
            "Step: 15000 Loss: 52.6703 lr: 0.0143\n",
            "Step: 15500 Loss: 52.6792 lr: 0.0141\n",
            "Step: 16000 Loss: 52.6222 lr: 0.0140\n",
            "Step: 16500 Loss: 52.3662 lr: 0.0138\n",
            "Step: 17000 Loss: 52.4952 lr: 0.0136\n",
            "Step: 17500 Loss: 52.4699 lr: 0.0134\n",
            "Epoch 0 Total Mean Loss : 57.4765\n",
            "*****Epoch 0 Train Finished*****\n",
            "\n",
            "*****Epoch 0 Saving Embedding...*****\n",
            "*****Epoch 0 Embedding Saved at /content/drive/MyDrive/tokenized/word2vec_wiki/w2v_0.txt*****\n",
            "\n",
            "*****Epoch 1 Train Start*****\n",
            "*****Epoch 1 Total Step 17645*****\n",
            "Step: 500 Loss: 52.1592 lr: 0.0131\n",
            "Step: 1000 Loss: 52.1041 lr: 0.0130\n",
            "Step: 1500 Loss: 52.0272 lr: 0.0128\n",
            "Step: 2000 Loss: 51.7282 lr: 0.0126\n",
            "Step: 2500 Loss: 51.6581 lr: 0.0124\n",
            "Step: 3000 Loss: 51.8056 lr: 0.0122\n",
            "Step: 3500 Loss: 51.7178 lr: 0.0120\n",
            "Step: 4000 Loss: 51.6732 lr: 0.0118\n",
            "Step: 4500 Loss: 51.5950 lr: 0.0116\n",
            "Step: 5000 Loss: 51.4762 lr: 0.0114\n",
            "Step: 5500 Loss: 51.3109 lr: 0.0113\n",
            "Step: 6000 Loss: 51.3750 lr: 0.0111\n",
            "Step: 6500 Loss: 51.3250 lr: 0.0109\n",
            "Step: 7000 Loss: 50.9670 lr: 0.0107\n",
            "Step: 7500 Loss: 51.0222 lr: 0.0105\n",
            "Step: 8000 Loss: 51.1583 lr: 0.0103\n",
            "Step: 8500 Loss: 50.9250 lr: 0.0101\n",
            "Step: 9000 Loss: 50.8813 lr: 0.0099\n",
            "Step: 9500 Loss: 50.9800 lr: 0.0097\n",
            "Step: 10000 Loss: 50.8575 lr: 0.0096\n",
            "Step: 10500 Loss: 50.9111 lr: 0.0094\n",
            "Step: 11000 Loss: 50.7248 lr: 0.0092\n",
            "Step: 11500 Loss: 50.8335 lr: 0.0090\n",
            "Step: 12000 Loss: 50.5071 lr: 0.0088\n",
            "Step: 12500 Loss: 50.6521 lr: 0.0086\n",
            "Step: 13000 Loss: 50.4734 lr: 0.0084\n",
            "Step: 13500 Loss: 50.4925 lr: 0.0082\n",
            "Step: 14000 Loss: 50.4832 lr: 0.0080\n",
            "Step: 14500 Loss: 50.2992 lr: 0.0079\n",
            "Step: 15000 Loss: 50.5470 lr: 0.0077\n",
            "Step: 15500 Loss: 50.3383 lr: 0.0075\n",
            "Step: 16000 Loss: 50.2641 lr: 0.0073\n",
            "Step: 16500 Loss: 50.1293 lr: 0.0071\n",
            "Step: 17000 Loss: 50.1573 lr: 0.0069\n",
            "Step: 17500 Loss: 50.1890 lr: 0.0067\n",
            "Epoch 1 Total Mean Loss : 51.0116\n",
            "*****Epoch 1 Train Finished*****\n",
            "\n",
            "*****Epoch 1 Saving Embedding...*****\n",
            "*****Epoch 1 Embedding Saved at /content/drive/MyDrive/tokenized/word2vec_wiki/w2v_1.txt*****\n",
            "\n",
            "*****Epoch 2 Train Start*****\n",
            "*****Epoch 2 Total Step 17645*****\n",
            "Step: 500 Loss: 49.9389 lr: 0.0065\n",
            "Step: 1000 Loss: 49.8485 lr: 0.0063\n",
            "Step: 1500 Loss: 49.6978 lr: 0.0061\n",
            "Step: 2000 Loss: 49.8093 lr: 0.0059\n",
            "Step: 2500 Loss: 49.7050 lr: 0.0057\n",
            "Step: 3000 Loss: 49.6959 lr: 0.0055\n",
            "Step: 3500 Loss: 49.6332 lr: 0.0053\n",
            "Step: 4000 Loss: 49.6432 lr: 0.0052\n",
            "Step: 4500 Loss: 49.4887 lr: 0.0050\n",
            "Step: 5000 Loss: 49.6721 lr: 0.0048\n",
            "Step: 5500 Loss: 49.5536 lr: 0.0046\n",
            "Step: 6000 Loss: 49.7651 lr: 0.0044\n",
            "Step: 6500 Loss: 49.5676 lr: 0.0042\n",
            "Step: 7000 Loss: 49.6489 lr: 0.0040\n",
            "Step: 7500 Loss: 49.4943 lr: 0.0038\n",
            "Step: 8000 Loss: 49.7064 lr: 0.0036\n",
            "Step: 8500 Loss: 49.3786 lr: 0.0035\n",
            "Step: 9000 Loss: 49.7229 lr: 0.0033\n",
            "Step: 9500 Loss: 49.4689 lr: 0.0031\n",
            "Step: 10000 Loss: 49.5954 lr: 0.0029\n",
            "Step: 10500 Loss: 49.5102 lr: 0.0027\n",
            "Step: 11000 Loss: 49.5231 lr: 0.0025\n",
            "Step: 11500 Loss: 49.2880 lr: 0.0023\n",
            "Step: 12000 Loss: 49.5196 lr: 0.0021\n",
            "Step: 12500 Loss: 49.4566 lr: 0.0019\n",
            "Step: 13000 Loss: 49.3618 lr: 0.0018\n",
            "Step: 13500 Loss: 49.3786 lr: 0.0016\n",
            "Step: 14000 Loss: 49.3245 lr: 0.0014\n",
            "Step: 14500 Loss: 49.3785 lr: 0.0012\n",
            "Step: 15000 Loss: 49.5142 lr: 0.0010\n",
            "Step: 15500 Loss: 49.2106 lr: 0.0008\n",
            "Step: 16000 Loss: 49.4838 lr: 0.0006\n",
            "Step: 16500 Loss: 49.4708 lr: 0.0004\n",
            "Step: 17000 Loss: 49.3821 lr: 0.0002\n",
            "Step: 17500 Loss: 49.3102 lr: 0.0001\n",
            "Epoch 2 Total Mean Loss : 49.5427\n",
            "*****Epoch 2 Train Finished*****\n",
            "\n",
            "*****Epoch 2 Saving Embedding...*****\n",
            "*****Epoch 2 Embedding Saved at /content/drive/MyDrive/tokenized/word2vec_wiki/w2v_2.txt*****\n",
            "\n"
          ]
        }
      ],
      "source": [
        "# 학습\n",
        "w2v.train(train_dataloader)"
      ]
    },
    {
      "cell_type": "markdown",
      "metadata": {
        "id": "3uTIm4vJ4WSp"
      },
      "source": [
        "### 유사한 단어 확인\n",
        "- 사전에 존재하는 단어들과 유사한 단어를 검색해보자. Gensim 패키지는 유사 단어 외에도 단어간의 유사도를 계산하는 여러 함수를 제공한다. 실험을 통해 word2vec의 한계점을 발견했다면 아래에 markdown으로 작성해보자. \n",
        "- [Gensim 패키지 document](https://radimrehurek.com/gensim/models/keyedvectors.html)"
      ]
    },
    {
      "cell_type": "code",
      "execution_count": 172,
      "metadata": {
        "ExecuteTime": {
          "end_time": "2022-02-19T14:47:59.605389Z",
          "start_time": "2022-02-19T14:47:59.368925Z"
        },
        "id": "AKpBuVlP4WSp"
      },
      "outputs": [],
      "source": [
        "import gensim"
      ]
    },
    {
      "cell_type": "code",
      "execution_count": 173,
      "metadata": {
        "ExecuteTime": {
          "end_time": "2022-02-19T14:49:06.590460Z",
          "start_time": "2022-02-19T14:49:05.174241Z"
        },
        "id": "AWTCodimsAq8"
      },
      "outputs": [],
      "source": [
        "word_vectors = gensim.models.KeyedVectors.load_word2vec_format('/content/drive/MyDrive/tokenized/word2vec_wiki/w2v_1.txt', binary=False)"
      ]
    },
    {
      "cell_type": "code",
      "execution_count": 183,
      "metadata": {
        "ExecuteTime": {
          "end_time": "2022-02-19T14:49:11.324372Z",
          "start_time": "2022-02-19T14:49:11.315429Z"
        },
        "colab": {
          "base_uri": "https://localhost:8080/"
        },
        "id": "MLMh_evrsAq9",
        "outputId": "6c833ea6-1477-449e-b136-117a47b337d7"
      },
      "outputs": [
        {
          "name": "stdout",
          "output_type": "stream",
          "text": [
            "강릉: 0.9848\n"
          ]
        }
      ],
      "source": [
        "result = word_vectors.most_similar(positive=['여자', '공주'], negative=['남자'])\n",
        "most_similar_key, similarity = result[0]\n",
        "print(f\"{most_similar_key}: {similarity:.4f}\")"
      ]
    },
    {
      "cell_type": "code",
      "execution_count": 184,
      "metadata": {
        "colab": {
          "base_uri": "https://localhost:8080/"
        },
        "id": "GYx5y8ibG95O",
        "outputId": "7f1bf020-de67-4ab4-d74a-b314132b7276"
      },
      "outputs": [
        {
          "data": {
            "text/plain": [
              "[('강릉', 0.9848035573959351),\n",
              " ('공동', 0.9847829341888428),\n",
              " ('교육부', 0.9834421277046204),\n",
              " ('임시', 0.9833094477653503),\n",
              " ('협의회', 0.9830878973007202),\n",
              " ('금메달', 0.9827330112457275),\n",
              " ('학습', 0.982718825340271),\n",
              " ('검사장', 0.982380747795105),\n",
              " ('학력', 0.9822996258735657),\n",
              " ('쇼', 0.9819599390029907)]"
            ]
          },
          "execution_count": 184,
          "metadata": {},
          "output_type": "execute_result"
        }
      ],
      "source": [
        "result"
      ]
    },
    {
      "cell_type": "markdown",
      "metadata": {
        "id": "X8lc8NQe4cT2"
      },
      "source": [
        "word2vec의 한계점은?"
      ]
    },
    {
      "cell_type": "markdown",
      "metadata": {
        "id": "UXgNH826HnPi"
      },
      "source": [
        "- 단어 당 하나의 임베딩 벡터가 매핑되기 때문에 동음이의어의 경우에는 잘 구분할 수 없다\n",
        "    - 위 결과에서도 `공주`와 유사도가 높은 단어로 `강릉`이 나왔는데, `공주`를 princess가 아닌 지명으로 인식하여 임베딩한 결과라고 유추할 수 있다."
      ]
    }
  ],
  "metadata": {
    "accelerator": "GPU",
    "colab": {
      "collapsed_sections": [],
      "name": "8팀_송나현_Week3_1_assignment_(1).ipynb",
      "provenance": []
    },
    "kernelspec": {
      "display_name": "torch",
      "language": "python",
      "name": "torch"
    },
    "language_info": {
      "codemirror_mode": {
        "name": "ipython",
        "version": 3
      },
      "file_extension": ".py",
      "mimetype": "text/x-python",
      "name": "python",
      "nbconvert_exporter": "python",
      "pygments_lexer": "ipython3",
      "version": "3.8.11"
    }
  },
  "nbformat": 4,
  "nbformat_minor": 0
}
